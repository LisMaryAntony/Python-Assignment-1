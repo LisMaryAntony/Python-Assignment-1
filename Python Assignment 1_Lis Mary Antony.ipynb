{
 "cells": [
  {
   "cell_type": "markdown",
   "id": "ef5f5df6-a8b5-47e4-a6e8-76bb98aade73",
   "metadata": {},
   "source": [
    "# Exercise 1"
   ]
  },
  {
   "cell_type": "code",
   "execution_count": 46,
   "id": "0ead6279-2e87-4336-a547-5bb082f4a772",
   "metadata": {},
   "outputs": [
    {
     "name": "stdout",
     "output_type": "stream",
     "text": [
      "Lis Mary Antony\n",
      "D33-18\n",
      "lismaryantony@gmail.com\n"
     ]
    }
   ],
   "source": [
    "print(\"\"\"Lis Mary Antony\n",
    "D33-18\n",
    "lismaryantony@gmail.com\"\"\")"
   ]
  },
  {
   "cell_type": "markdown",
   "id": "a06204a1-cee8-40e4-af1a-6f545a0971f1",
   "metadata": {},
   "source": [
    "# Exercise 2"
   ]
  },
  {
   "cell_type": "code",
   "execution_count": 50,
   "id": "d2c14f14-55c8-4fc9-80c2-331279103476",
   "metadata": {},
   "outputs": [
    {
     "name": "stdout",
     "output_type": "stream",
     "text": [
      "Lis Mary Antony\n",
      "D33-18\n",
      "lismaryantony@gmail.com\n"
     ]
    }
   ],
   "source": [
    "print(f\"{\"Lis Mary Antony\"}\\n{\"D33-18\"}\\n{\"lismaryantony@gmail.com\"}\")"
   ]
  },
  {
   "cell_type": "markdown",
   "id": "88f228d0-28fc-4b1d-b0c7-6a3b7235ea8d",
   "metadata": {},
   "source": [
    "# Exercise 3"
   ]
  },
  {
   "cell_type": "code",
   "execution_count": 53,
   "id": "147a153f-d5f7-4aeb-bb00-4dc62c45fb89",
   "metadata": {},
   "outputs": [],
   "source": [
    "a=14\n",
    "b=7"
   ]
  },
  {
   "cell_type": "code",
   "execution_count": 57,
   "id": "26a5a077-d425-4357-8983-fe14382d7dc2",
   "metadata": {},
   "outputs": [],
   "source": [
    "c=a+b #Addition\n",
    "d=a-b #Subtraction\n",
    "e=a*b #Multiplication\n",
    "f=a/b #Division"
   ]
  },
  {
   "cell_type": "code",
   "execution_count": 69,
   "id": "24417a96-9f31-4bc5-8acf-0420c2d622bd",
   "metadata": {},
   "outputs": [
    {
     "name": "stdout",
     "output_type": "stream",
     "text": [
      "14 + 7 = 21\n",
      "14 - 7 = 7\n",
      "14 * 7 = 98\n",
      "14 / 7 = 2.0\n"
     ]
    }
   ],
   "source": [
    "print(a, \"+\", b, \"=\", c)\n",
    "print(a, \"-\", b, \"=\", d)\n",
    "print(a, \"*\", b, \"=\", e)\n",
    "print(a, \"/\", b, \"=\", f)"
   ]
  },
  {
   "cell_type": "markdown",
   "id": "0464ff55-051f-494e-bf0d-f56f347cdf41",
   "metadata": {},
   "source": [
    "# Exercise 4"
   ]
  },
  {
   "cell_type": "code",
   "execution_count": 74,
   "id": "6faa23ae-0b27-4eb7-9d9b-296b75b772fa",
   "metadata": {},
   "outputs": [
    {
     "name": "stdout",
     "output_type": "stream",
     "text": [
      "1\n",
      "2\n",
      "3\n",
      "4\n",
      "5\n"
     ]
    }
   ],
   "source": [
    "for i in range(1,6):\n",
    "    print(i)"
   ]
  },
  {
   "cell_type": "code",
   "execution_count": 78,
   "id": "6d3a4bcc-2963-4570-b619-2c79bfec3a07",
   "metadata": {},
   "outputs": [
    {
     "name": "stdout",
     "output_type": "stream",
     "text": [
      "1\n",
      "2\n",
      "3\n",
      "4\n",
      "5\n"
     ]
    }
   ],
   "source": [
    "print(1)\n",
    "print(2)\n",
    "print(3)\n",
    "print(4)\n",
    "print(5)"
   ]
  },
  {
   "cell_type": "markdown",
   "id": "52a5adc5-426b-44ed-8324-76058b37d586",
   "metadata": {},
   "source": [
    "# Exercise 5"
   ]
  },
  {
   "cell_type": "code",
   "execution_count": 87,
   "id": "0f3e102d-9ecb-48fc-bc25-56bcad77c572",
   "metadata": {},
   "outputs": [
    {
     "name": "stdout",
     "output_type": "stream",
     "text": [
      "\"SDK\" stands for \"Software Development Kit\", whereas \n",
      "\"IDE\" stands for \"Integrated Development Environment\".\n"
     ]
    }
   ],
   "source": [
    "print(\"\"\"\"SDK\" stands for \"Software Development Kit\", whereas \n",
    "\"IDE\" stands for \"Integrated Development Environment\".\"\"\")"
   ]
  },
  {
   "cell_type": "markdown",
   "id": "2010d9c9-f14f-4700-af25-731a7576003d",
   "metadata": {},
   "source": [
    "# Exercise 6"
   ]
  },
  {
   "cell_type": "code",
   "execution_count": 92,
   "id": "829e6410-dc11-4a9b-88aa-a4dfffbb4876",
   "metadata": {},
   "outputs": [
    {
     "name": "stdout",
     "output_type": "stream",
     "text": [
      "python is an \"awesome\" language.\n"
     ]
    }
   ],
   "source": [
    "print(\"python is an \\\"awesome\\\" language.\")"
   ]
  },
  {
   "cell_type": "code",
   "execution_count": 94,
   "id": "759dba24-e268-4f22-b1c2-d7d7b5f57c33",
   "metadata": {},
   "outputs": [
    {
     "name": "stdout",
     "output_type": "stream",
     "text": [
      "python\n",
      "\t2023\n"
     ]
    }
   ],
   "source": [
    "print(\"python\\n\\t2023\")"
   ]
  },
  {
   "cell_type": "code",
   "execution_count": 96,
   "id": "19444ed7-41b8-4c1e-84fe-9591c713342a",
   "metadata": {},
   "outputs": [
    {
     "name": "stdout",
     "output_type": "stream",
     "text": [
      "I'm from Entri\n"
     ]
    }
   ],
   "source": [
    "print('I\\'m from Entri.\\b')"
   ]
  },
  {
   "cell_type": "code",
   "execution_count": 98,
   "id": "29382a32-299b-4f0f-a94e-7b4992a7277c",
   "metadata": {},
   "outputs": [
    {
     "name": "stdout",
     "output_type": "stream",
     "text": [
      "5\n"
     ]
    }
   ],
   "source": [
    "print(\"\\65\")"
   ]
  },
  {
   "cell_type": "code",
   "execution_count": 100,
   "id": "084edd90-9b46-4532-8d0b-a1725507ad0f",
   "metadata": {},
   "outputs": [
    {
     "name": "stdout",
     "output_type": "stream",
     "text": [
      "e\n"
     ]
    }
   ],
   "source": [
    "print(\"\\x65\")"
   ]
  },
  {
   "cell_type": "code",
   "execution_count": 102,
   "id": "fae3202c-7bc0-4ffa-9b33-36525e8446f1",
   "metadata": {},
   "outputs": [
    {
     "name": "stdout",
     "output_type": "stream",
     "text": [
      "Entri\n",
      "2023\n"
     ]
    }
   ],
   "source": [
    "print(\"Entri\", \"2023\", sep=\"\\n\")"
   ]
  },
  {
   "cell_type": "code",
   "execution_count": 104,
   "id": "b1a77af5-76b5-4e8b-a560-89d0d29f7fad",
   "metadata": {},
   "outputs": [
    {
     "name": "stdout",
     "output_type": "stream",
     "text": [
      "Entr2023\n"
     ]
    }
   ],
   "source": [
    "print(\"Entri\", \"2023\", sep=\"\\b\")"
   ]
  },
  {
   "cell_type": "code",
   "execution_count": 106,
   "id": "d227dc43-53c2-45fc-99cd-e8882151dbd4",
   "metadata": {},
   "outputs": [
    {
     "name": "stdout",
     "output_type": "stream",
     "text": [
      "Entri*20"
     ]
    }
   ],
   "source": [
    "print(\"Entri\", \"2023\", sep=\"*\", end=\"\\b\\b\\b\\b\")"
   ]
  },
  {
   "cell_type": "markdown",
   "id": "fe5f0990-3170-4dde-9f63-255a6de3cd73",
   "metadata": {},
   "source": [
    "# Exercise 7"
   ]
  },
  {
   "cell_type": "code",
   "execution_count": 109,
   "id": "d72adfb7-1cb6-4fa1-983e-921ef73b4bfb",
   "metadata": {},
   "outputs": [],
   "source": [
    "num=23\n",
    "textnum=\"57\"\n",
    "decimal=98.3"
   ]
  },
  {
   "cell_type": "code",
   "execution_count": 131,
   "id": "925fda9a-daf2-4c5b-bc4b-568579f1e244",
   "metadata": {},
   "outputs": [
    {
     "name": "stdout",
     "output_type": "stream",
     "text": [
      "Type of num,( 23 ) : <class 'int'>\n",
      "Type of textnum,( 57 ) : <class 'str'>\n",
      "Type of decimal,( 98.3 ) : <class 'float'>\n"
     ]
    }
   ],
   "source": [
    "print(\"Type of num,(\",num,\")\",\":\", type(num))\n",
    "print(\"Type of textnum,(\", textnum, \")\", \":\", type(textnum))\n",
    "print(\"Type of decimal,(\",decimal,\")\", \":\", type(decimal))"
   ]
  },
  {
   "cell_type": "code",
   "execution_count": 133,
   "id": "562f5a02-3448-432b-8999-32676627a47a",
   "metadata": {},
   "outputs": [],
   "source": [
    "integer=int(textnum)"
   ]
  },
  {
   "cell_type": "code",
   "execution_count": 141,
   "id": "fb064e71-7331-4ec8-a3a7-b90e26217bd6",
   "metadata": {},
   "outputs": [
    {
     "name": "stdout",
     "output_type": "stream",
     "text": [
      "Sum of numbers= 178.3\n"
     ]
    }
   ],
   "source": [
    "sum=num+integer+decimal\n",
    "print(\"Sum of numbers=\", sum)"
   ]
  },
  {
   "cell_type": "code",
   "execution_count": 149,
   "id": "39e1a5ce-8979-4cf4-96ad-80e547129634",
   "metadata": {},
   "outputs": [
    {
     "name": "stdout",
     "output_type": "stream",
     "text": [
      "Type of sum ( 178.3 ) is <class 'float'>\n"
     ]
    }
   ],
   "source": [
    "print (\"Type of sum (\", sum, \")\", \"is\", type(sum))"
   ]
  },
  {
   "cell_type": "markdown",
   "id": "d38b92e3-0da2-4670-8709-8d25e782aaef",
   "metadata": {},
   "source": [
    "# Exercise 8"
   ]
  },
  {
   "cell_type": "code",
   "execution_count": 158,
   "id": "046459f5-a283-4be6-a2c8-6f21e64262ed",
   "metadata": {},
   "outputs": [],
   "source": [
    "Days_in_a_Year=365\n",
    "Hours_in_a_Day=24\n",
    "Minutes_in_an_Hour=60"
   ]
  },
  {
   "cell_type": "code",
   "execution_count": 160,
   "id": "29825551-fa72-4709-afce-e7baa480cf8d",
   "metadata": {},
   "outputs": [],
   "source": [
    "Total_minutes=Days_in_a_Year*Hours_in_a_Day*Minutes_in_an_Hour"
   ]
  },
  {
   "cell_type": "code",
   "execution_count": 166,
   "id": "af49c3cb-0ef7-4a7e-b7c4-74ecdc8d72ea",
   "metadata": {},
   "outputs": [
    {
     "name": "stdout",
     "output_type": "stream",
     "text": [
      "This code calculates the number of minutes in a year using variables for each unit of time.\n",
      "Days in a Year=365\n",
      "Hours in a Day=24\n",
      "Minutes in an Hour=60\n",
      "Then, the total minutes in a year is 525600 minutes\n"
     ]
    }
   ],
   "source": [
    "print(\"This code calculates the number of minutes in a year using variables for each unit of time.\")\n",
    "print(\"\"\"Days in a Year=365\n",
    "Hours in a Day=24\n",
    "Minutes in an Hour=60\n",
    "Then, the total minutes in a year is\"\"\", Total_minutes, \"minutes\")"
   ]
  },
  {
   "cell_type": "markdown",
   "id": "deab07a0-8467-496c-99d9-18de99c764ce",
   "metadata": {},
   "source": [
    "# Exercise 9"
   ]
  },
  {
   "cell_type": "code",
   "execution_count": 193,
   "id": "847e1af7-0160-4ded-8758-8fb5e1eb5c44",
   "metadata": {},
   "outputs": [
    {
     "name": "stdin",
     "output_type": "stream",
     "text": [
      "Enter your name: Lis Mary Antony\n"
     ]
    },
    {
     "name": "stdout",
     "output_type": "stream",
     "text": [
      "Hi, Lis Mary Antony welcome to Python Programming:)\n"
     ]
    }
   ],
   "source": [
    "Name= input(\"Enter your name:\")\n",
    "print(\"Hi,\", Name, \"welcome to Python Programming:)\")"
   ]
  },
  {
   "cell_type": "markdown",
   "id": "6e4ec782-b659-464c-bdf2-c64cb10e6604",
   "metadata": {},
   "source": [
    "# Exercise 10"
   ]
  },
  {
   "cell_type": "code",
   "execution_count": 196,
   "id": "86b59525-bc4c-4475-9313-fa8c7bf20ab5",
   "metadata": {},
   "outputs": [],
   "source": [
    "Conversion_Rate=1.25"
   ]
  },
  {
   "cell_type": "code",
   "execution_count": 200,
   "id": "d10a6afc-293c-4bee-9515-30874b078add",
   "metadata": {},
   "outputs": [
    {
     "name": "stdin",
     "output_type": "stream",
     "text": [
      "Please enter amont in Pounds: 25.8\n"
     ]
    },
    {
     "name": "stdout",
     "output_type": "stream",
     "text": [
      "£ 25.8 is $ 32.25\n"
     ]
    }
   ],
   "source": [
    "Pounds=float(input(\"Please enter amont in Pounds:\"))\n",
    "Dollers=Pounds*Conversion_Rate\n",
    "print(\"£\", Pounds, \"is\", \"$\", Dollers)"
   ]
  },
  {
   "cell_type": "code",
   "execution_count": null,
   "id": "4580fa04-dce5-45e3-93fa-30e6a72a3294",
   "metadata": {},
   "outputs": [],
   "source": []
  }
 ],
 "metadata": {
  "kernelspec": {
   "display_name": "Python 3 (ipykernel)",
   "language": "python",
   "name": "python3"
  },
  "language_info": {
   "codemirror_mode": {
    "name": "ipython",
    "version": 3
   },
   "file_extension": ".py",
   "mimetype": "text/x-python",
   "name": "python",
   "nbconvert_exporter": "python",
   "pygments_lexer": "ipython3",
   "version": "3.12.4"
  }
 },
 "nbformat": 4,
 "nbformat_minor": 5
}
