{
 "cells": [
  {
   "cell_type": "markdown",
   "id": "400bb6fa-02b0-48d0-8f7c-4217c079a99f",
   "metadata": {},
   "source": [
    "# Pounds to Dollers"
   ]
  },
  {
   "cell_type": "code",
   "execution_count": 2,
   "id": "07553bc3-1f2c-4050-acaf-c5382c4a6b4d",
   "metadata": {},
   "outputs": [],
   "source": [
    "Conversion_Rate=1.25"
   ]
  },
  {
   "cell_type": "code",
   "execution_count": 4,
   "id": "906bb52d-94d4-4991-a0db-ec55a9d23947",
   "metadata": {},
   "outputs": [
    {
     "name": "stdin",
     "output_type": "stream",
     "text": [
      "Please enter amont in Pounds: 39.5\n"
     ]
    },
    {
     "name": "stdout",
     "output_type": "stream",
     "text": [
      "£ 39.5 is $ 49.375\n"
     ]
    }
   ],
   "source": [
    "Pounds=float(input(\"Please enter amont in Pounds:\"))\n",
    "Dollers=Pounds*Conversion_Rate\n",
    "print(\"£\", Pounds, \"is\", \"$\", Dollers)"
   ]
  }
 ],
 "metadata": {
  "kernelspec": {
   "display_name": "Python 3 (ipykernel)",
   "language": "python",
   "name": "python3"
  },
  "language_info": {
   "codemirror_mode": {
    "name": "ipython",
    "version": 3
   },
   "file_extension": ".py",
   "mimetype": "text/x-python",
   "name": "python",
   "nbconvert_exporter": "python",
   "pygments_lexer": "ipython3",
   "version": "3.12.4"
  }
 },
 "nbformat": 4,
 "nbformat_minor": 5
}
